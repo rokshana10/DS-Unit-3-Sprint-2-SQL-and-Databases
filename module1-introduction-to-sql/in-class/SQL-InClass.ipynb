{
 "cells": [
  {
   "cell_type": "code",
   "execution_count": 1,
   "metadata": {},
   "outputs": [],
   "source": [
    "import sqlite3"
   ]
  },
  {
   "cell_type": "code",
   "execution_count": 2,
   "metadata": {},
   "outputs": [
    {
     "name": "stdout",
     "output_type": "stream",
     "text": [
      "<sqlite3.Connection object at 0x0000020A06A93730>\n"
     ]
    }
   ],
   "source": [
    "DB_FILEPATH = 'chinook.db'\n",
    "conn = sqlite3.connect(DB_FILEPATH)\n",
    "print(conn)"
   ]
  },
  {
   "cell_type": "code",
   "execution_count": 3,
   "metadata": {},
   "outputs": [
    {
     "name": "stdout",
     "output_type": "stream",
     "text": [
      "<sqlite3.Cursor object at 0x0000020A06A38C00>\n"
     ]
    }
   ],
   "source": [
    "cursor = conn.cursor()\n",
    "print(cursor)"
   ]
  },
  {
   "cell_type": "code",
   "execution_count": 5,
   "metadata": {},
   "outputs": [
    {
     "name": "stdout",
     "output_type": "stream",
     "text": [
      "[(90, 'Iron Maiden', 21), (22, 'Led Zeppelin', 14), (58, 'Deep Purple', 11), (50, 'Metallica', 10), (150, 'U2', 10), (114, 'Ozzy Osbourne', 6), (118, 'Pearl Jam', 5), (21, 'Various Artists', 4), (82, 'Faith No More', 4), (84, 'Foo Fighters', 4), (149, 'Lost', 4), (152, 'Van Halen', 4), (8, 'Audioslave', 3), (27, 'Gilberto Gil', 3), (51, 'Queen', 3), (59, 'Santana', 3), (68, 'Miles Davis', 3), (88, \"Guns N' Roses\", 3), (92, 'Jamiroquai', 3), (113, 'Os Paralamas Do Sucesso', 3), (124, 'R.E.M.', 3), (127, 'Red Hot Chili Peppers', 3), (142, 'The Rolling Stones', 3), (156, 'The Office', 3), (226, 'Eugene Ormandy', 3), (248, 'Berliner Philharmoniker & Herbert Von Karajan', 3), (1, 'AC/DC', 2), (2, 'Accept', 2), (6, 'Antônio Carlos Jobim', 2), (11, 'Black Label Society', 2), (12, 'Black Sabbath', 2), (16, 'Caetano Veloso', 2), (18, 'Chico Science & Nação Zumbi', 2), (19, 'Cidade Negra', 2), (42, 'Milton Nascimento', 2), (52, 'Kiss', 2), (53, 'Spyro Gyra', 2), (54, 'Green Day', 2), (76, 'Creedence Clearwater Revival', 2), (77, 'Cássia Eller', 2), (80, 'Djavan', 2), (81, 'Eric Clapton', 2), (99, 'Legião Urbana', 2), (101, 'Lulu Santos', 2), (110, 'Nirvana', 2), (130, 'Skank', 2), (131, 'Smashing Pumpkins', 2), (137, 'The Black Crowes', 2), (139, 'The Cult', 2), (143, 'The Tea Party', 2), (145, 'Tim Maia', 2), (146, 'Titãs', 2), (147, 'Battlestar Galactica', 2), (208, 'English Concert & Trevor Pinnock', 2), (245, 'Michael Tilson Thomas & San Francisco Symphony', 2), (252, 'Amy Winehouse', 2), (3, 'Aerosmith', 1), (4, 'Alanis Morissette', 1), (5, 'Alice In Chains', 1), (7, 'Apocalyptica', 1), (9, 'BackBeat', 1), (10, 'Billy Cobham', 1), (13, 'Body Count', 1), (14, 'Bruce Dickinson', 1), (15, 'Buddy Guy', 1), (17, 'Chico Buarque', 1), (20, 'Cláudio Zoli', 1), (23, 'Frank Zappa & Captain Beefheart', 1), (24, 'Marcos Valle', 1), (36, 'O Rappa', 1), (37, 'Ed Motta', 1), (41, 'Elis Regina', 1), (46, 'Jorge Ben', 1), (55, 'David Coverdale', 1), (56, 'Gonzaguinha', 1), (57, 'Os Mutantes', 1), (69, 'Gene Krupa', 1), (70, 'Toquinho & Vinícius', 1), (72, 'Vinícius De Moraes', 1), (78, 'Def Leppard', 1), (79, 'Dennis Chambers', 1), (83, 'Falamansa', 1), (85, 'Frank Sinatra', 1), (86, 'Funk Como Le Gusta', 1), (87, 'Godsmack', 1), (89, 'Incognito', 1), (91, 'James Brown', 1), (93, 'JET', 1), (94, 'Jimi Hendrix', 1), (95, 'Joe Satriani', 1), (96, 'Jota Quest', 1), (97, 'João Suplicy', 1), (98, 'Judas Priest', 1), (100, 'Lenny Kravitz', 1), (102, 'Marillion', 1), (103, 'Marisa Monte', 1), (104, 'Marvin Gaye', 1), (105, 'Men At Work', 1), (106, 'Motörhead', 1), (108, 'Mônica Marianno', 1), (109, 'Mötley Crüe', 1), (111, 'O Terço', 1), (112, 'Olodum', 1), (115, 'Page & Plant', 1), (116, 'Passengers', 1), (117, \"Paul D'Ianno\", 1), (120, 'Pink Floyd', 1), (121, 'Planet Hemp', 1), (122, 'R.E.M. Feat. Kate Pearson', 1), (125, 'Raimundos', 1), (126, 'Raul Seixas', 1), (128, 'Rush', 1), (132, 'Soundgarden', 1), (133, 'Stevie Ray Vaughan & Double Trouble', 1), (134, 'Stone Temple Pilots', 1), (135, 'System Of A Down', 1), (136, 'Terry Bozzio, Tony Levin & Steve Stevens', 1), (138, 'The Clash', 1), (140, 'The Doors', 1), (141, 'The Police', 1), (144, 'The Who', 1), (148, 'Heroes', 1), (151, 'UB40', 1), (153, 'Velvet Revolver', 1), (155, 'Zeca Pagodinho', 1), (157, 'Dread Zeppelin', 1), (158, 'Battlestar Galactica (Classic)', 1), (159, 'Aquaman', 1), (179, 'Scorpions', 1), (180, 'House Of Pain', 1), (196, 'Cake', 1), (197, 'Aisha Duo', 1), (198, 'Habib Koité and Bamada', 1), (199, 'Karsh Kale', 1), (200, 'The Posies', 1), (201, 'Luciana Souza/Romero Lubambo', 1), (202, 'Aaron Goldberg', 1), (203, 'Nicolaus Esterhazy Sinfonia', 1), (204, 'Temple of the Dog', 1), (205, 'Chris Cornell', 1), (206, 'Alberto Turco & Nova Schola Gregoriana', 1), (207, 'Richard Marlow & The Choir of Trinity College, Cambridge', 1), (209, 'Anne-Sophie Mutter, Herbert Von Karajan & Wiener Philharmoniker', 1), (210, 'Hilary Hahn, Jeffrey Kahane, Los Angeles Chamber Orchestra & Margaret Batjer', 1), (211, 'Wilhelm Kempff', 1), (212, 'Yo-Yo Ma', 1), (213, 'Scholars Baroque Ensemble', 1), (214, 'Academy of St. Martin in the Fields & Sir Neville Marriner', 1), (215, 'Academy of St. Martin in the Fields Chamber Ensemble & Sir Neville Marriner', 1), (216, 'Berliner Philharmoniker, Claudio Abbado & Sabine Meyer', 1), (217, 'Royal Philharmonic Orchestra & Sir Thomas Beecham', 1), (218, 'Orchestre Révolutionnaire et Romantique & John Eliot Gardiner', 1), (219, 'Britten Sinfonia, Ivor Bolton & Lesley Garrett', 1), (220, 'Chicago Symphony Chorus, Chicago Symphony Orchestra & Sir Georg Solti', 1), (221, 'Sir Georg Solti & Wiener Philharmoniker', 1), (222, 'Academy of St. Martin in the Fields, John Birch, Sir Neville Marriner & Sylvia McNair', 1), (223, 'London Symphony Orchestra & Sir Charles Mackerras', 1), (224, 'Barry Wordsworth & BBC Concert Orchestra', 1), (225, 'Herbert Von Karajan, Mirella Freni & Wiener Philharmoniker', 1), (227, 'Luciano Pavarotti', 1), (228, 'Leonard Bernstein & New York Philharmonic', 1), (229, 'Boston Symphony Orchestra & Seiji Ozawa', 1), (230, 'Aaron Copland & London Symphony Orchestra', 1), (231, 'Ton Koopman', 1), (232, 'Sergei Prokofiev & Yuri Temirkanov', 1), (233, 'Chicago Symphony Orchestra & Fritz Reiner', 1), (234, 'Orchestra of The Age of Enlightenment', 1), (235, 'Emanuel Ax, Eugene Ormandy & Philadelphia Orchestra', 1), (236, 'James Levine', 1), (237, 'Berliner Philharmoniker & Hans Rosbaud', 1), (238, 'Maurizio Pollini', 1), (240, 'Gustav Mahler', 1), (241, 'Felix Schmidt, London Symphony Orchestra & Rafael Frühbeck de Burgos', 1), (242, 'Edo de Waart & San Francisco Symphony', 1), (243, 'Antal Doráti & London Symphony Orchestra', 1), (244, 'Choir Of Westminster Abbey & Simon Preston', 1), (246, 'Chor der Wiener Staatsoper, Herbert Von Karajan & Wiener Philharmoniker', 1), (247, \"The King's Singers\", 1), (249, 'Sir Georg Solti, Sumi Jo & Wiener Philharmoniker', 1), (250, \"Christopher O'Riley\", 1), (251, 'Fretwork', 1), (253, 'Calexico', 1), (254, 'Otto Klemperer & Philharmonia Orchestra', 1), (255, 'Yehudi Menuhin', 1), (256, 'Philharmonia Orchestra & Sir Neville Marriner', 1), (257, 'Academy of St. Martin in the Fields, Sir Neville Marriner & Thurston Dart', 1), (258, 'Les Arts Florissants & William Christie', 1), (259, 'The 12 Cellists of The Berlin Philharmonic', 1), (260, 'Adrian Leaper & Doreen de Feis', 1), (261, 'Roger Norrington, London Classical Players', 1), (262, \"Charles Dutoit & L'Orchestre Symphonique de Montréal\", 1), (263, 'Equale Brass Ensemble, John Eliot Gardiner & Munich Monteverdi Orchestra and Choir', 1), (264, \"Kent Nagano and Orchestre de l'Opéra de Lyon\", 1), (265, 'Julian Bream', 1), (266, 'Martin Roscoe', 1), (267, 'Göteborgs Symfoniker & Neeme Järvi', 1), (268, 'Itzhak Perlman', 1), (269, 'Michele Campanella', 1), (270, 'Gerald Moore', 1), (271, 'Mela Tenenbaum, Pro Musica Prague & Richard Kapp', 1), (272, 'Emerson String Quartet', 1), (273, 'C. Monteverdi, Nigel Rogers - Chiaroscuro; London Baroque; London Cornett & Sackbu', 1), (274, 'Nash Ensemble', 1), (275, 'Philip Glass Ensemble', 1)]\n"
     ]
    }
   ],
   "source": [
    "query = '''\n",
    "SELECT \n",
    "   alb.ArtistId,\n",
    "   art.Name,\n",
    "   COUNT(alb.ArtistId) as AlbumCount\n",
    "FROM albums as alb\n",
    "JOIN artists as art ON alb.ArtistId = art.ArtistId\n",
    "GROUP BY alb.ArtistId\n",
    "ORDER BY AlbumCount DESC;\n",
    "'''\n",
    "result = cursor.execute(query).fetchall()\n",
    "print(result)"
   ]
  },
  {
   "cell_type": "code",
   "execution_count": 6,
   "metadata": {},
   "outputs": [
    {
     "data": {
      "text/plain": [
       "list"
      ]
     },
     "execution_count": 6,
     "metadata": {},
     "output_type": "execute_result"
    }
   ],
   "source": [
    "type(result)"
   ]
  },
  {
   "cell_type": "code",
   "execution_count": 8,
   "metadata": {},
   "outputs": [
    {
     "name": "stdout",
     "output_type": "stream",
     "text": [
      "(204, 3)\n"
     ]
    },
    {
     "data": {
      "text/html": [
       "<div>\n",
       "<style scoped>\n",
       "    .dataframe tbody tr th:only-of-type {\n",
       "        vertical-align: middle;\n",
       "    }\n",
       "\n",
       "    .dataframe tbody tr th {\n",
       "        vertical-align: top;\n",
       "    }\n",
       "\n",
       "    .dataframe thead th {\n",
       "        text-align: right;\n",
       "    }\n",
       "</style>\n",
       "<table border=\"1\" class=\"dataframe\">\n",
       "  <thead>\n",
       "    <tr style=\"text-align: right;\">\n",
       "      <th></th>\n",
       "      <th>ArtistId</th>\n",
       "      <th>Name</th>\n",
       "      <th>AlbumCount</th>\n",
       "    </tr>\n",
       "  </thead>\n",
       "  <tbody>\n",
       "    <tr>\n",
       "      <th>0</th>\n",
       "      <td>90</td>\n",
       "      <td>Iron Maiden</td>\n",
       "      <td>21</td>\n",
       "    </tr>\n",
       "    <tr>\n",
       "      <th>1</th>\n",
       "      <td>22</td>\n",
       "      <td>Led Zeppelin</td>\n",
       "      <td>14</td>\n",
       "    </tr>\n",
       "    <tr>\n",
       "      <th>2</th>\n",
       "      <td>58</td>\n",
       "      <td>Deep Purple</td>\n",
       "      <td>11</td>\n",
       "    </tr>\n",
       "    <tr>\n",
       "      <th>3</th>\n",
       "      <td>50</td>\n",
       "      <td>Metallica</td>\n",
       "      <td>10</td>\n",
       "    </tr>\n",
       "    <tr>\n",
       "      <th>4</th>\n",
       "      <td>150</td>\n",
       "      <td>U2</td>\n",
       "      <td>10</td>\n",
       "    </tr>\n",
       "  </tbody>\n",
       "</table>\n",
       "</div>"
      ],
      "text/plain": [
       "   ArtistId          Name  AlbumCount\n",
       "0        90   Iron Maiden          21\n",
       "1        22  Led Zeppelin          14\n",
       "2        58   Deep Purple          11\n",
       "3        50     Metallica          10\n",
       "4       150            U2          10"
      ]
     },
     "execution_count": 8,
     "metadata": {},
     "output_type": "execute_result"
    }
   ],
   "source": [
    "import pandas as pd\n",
    "\n",
    "# Get columns from cursor object\n",
    "columns = list(map(lambda x: x[0], cursor.description))\n",
    "\n",
    "# Assign to DataFrame\n",
    "df = pd.DataFrame(data=result, columns=columns)\n",
    "print(df.shape)\n",
    "df.head()"
   ]
  },
  {
   "cell_type": "code",
   "execution_count": 9,
   "metadata": {},
   "outputs": [],
   "source": [
    "def get_data(query, conn):\n",
    "    '''Function to get data from SQLite DB'''\n",
    "    \n",
    "    cursor = conn.cursor()\n",
    "    result = cursor.execute(query).fetchall()\n",
    "    \n",
    "    # Get columns from cursor object\n",
    "    columns = list(map(lambda x: x[0], cursor.description))\n",
    "    \n",
    "    # Assign to DataFrame\n",
    "    df = pd.DataFrame(data=result, columns=columns)\n",
    "    return df"
   ]
  },
  {
   "cell_type": "code",
   "execution_count": 10,
   "metadata": {},
   "outputs": [
    {
     "data": {
      "text/html": [
       "<div>\n",
       "<style scoped>\n",
       "    .dataframe tbody tr th:only-of-type {\n",
       "        vertical-align: middle;\n",
       "    }\n",
       "\n",
       "    .dataframe tbody tr th {\n",
       "        vertical-align: top;\n",
       "    }\n",
       "\n",
       "    .dataframe thead th {\n",
       "        text-align: right;\n",
       "    }\n",
       "</style>\n",
       "<table border=\"1\" class=\"dataframe\">\n",
       "  <thead>\n",
       "    <tr style=\"text-align: right;\">\n",
       "      <th></th>\n",
       "      <th>ArtistId</th>\n",
       "      <th>Name</th>\n",
       "      <th>AlbumCount</th>\n",
       "    </tr>\n",
       "  </thead>\n",
       "  <tbody>\n",
       "    <tr>\n",
       "      <th>0</th>\n",
       "      <td>90</td>\n",
       "      <td>Iron Maiden</td>\n",
       "      <td>21</td>\n",
       "    </tr>\n",
       "    <tr>\n",
       "      <th>1</th>\n",
       "      <td>22</td>\n",
       "      <td>Led Zeppelin</td>\n",
       "      <td>14</td>\n",
       "    </tr>\n",
       "    <tr>\n",
       "      <th>2</th>\n",
       "      <td>58</td>\n",
       "      <td>Deep Purple</td>\n",
       "      <td>11</td>\n",
       "    </tr>\n",
       "    <tr>\n",
       "      <th>3</th>\n",
       "      <td>50</td>\n",
       "      <td>Metallica</td>\n",
       "      <td>10</td>\n",
       "    </tr>\n",
       "    <tr>\n",
       "      <th>4</th>\n",
       "      <td>150</td>\n",
       "      <td>U2</td>\n",
       "      <td>10</td>\n",
       "    </tr>\n",
       "  </tbody>\n",
       "</table>\n",
       "</div>"
      ],
      "text/plain": [
       "   ArtistId          Name  AlbumCount\n",
       "0        90   Iron Maiden          21\n",
       "1        22  Led Zeppelin          14\n",
       "2        58   Deep Purple          11\n",
       "3        50     Metallica          10\n",
       "4       150            U2          10"
      ]
     },
     "execution_count": 10,
     "metadata": {},
     "output_type": "execute_result"
    }
   ],
   "source": [
    "df2 = get_data(query, conn)\n",
    "df2.head()"
   ]
  },
  {
   "cell_type": "code",
   "execution_count": null,
   "metadata": {},
   "outputs": [],
   "source": []
  }
 ],
 "metadata": {
  "kernelspec": {
   "display_name": "Python 3",
   "language": "python",
   "name": "python3"
  },
  "language_info": {
   "codemirror_mode": {
    "name": "ipython",
    "version": 3
   },
   "file_extension": ".py",
   "mimetype": "text/x-python",
   "name": "python",
   "nbconvert_exporter": "python",
   "pygments_lexer": "ipython3",
   "version": "3.7.6"
  }
 },
 "nbformat": 4,
 "nbformat_minor": 4
}
